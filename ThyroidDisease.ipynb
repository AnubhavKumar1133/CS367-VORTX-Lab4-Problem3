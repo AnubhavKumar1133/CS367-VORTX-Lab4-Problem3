{
 "cells": [
  {
   "cell_type": "code",
   "execution_count": 17,
   "id": "964ec6d7-1fba-4219-9525-7ab602eb5e9d",
   "metadata": {},
   "outputs": [],
   "source": [
    "import pandas as pd\n",
    "\n",
    "# Read the .data file (assuming it's space-separated; adjust delimiter if needed)\n",
    "data = pd.read_csv('ann-train.data', delimiter=' ', header=None)\n",
    "\n",
    "# Save the data to a .csv file\n",
    "data.to_csv('full_dataset.csv', index=False)\n"
   ]
  },
  {
   "cell_type": "code",
   "execution_count": null,
   "id": "798ae397-2a2b-459d-ad36-5e6759dfb4b9",
   "metadata": {},
   "outputs": [],
   "source": [
    "import pandas as pd\n",
    "from sklearn.model_selection import train_test_split\n",
    "from sklearn.metrics import accuracy_score\n",
    "from pgmpy.models import BayesianNetwork\n",
    "from pgmpy.estimators import MaximumLikelihoodEstimator, K2Score, HillClimbSearch\n",
    "\n",
    "data = pd.read_csv('full_dataset.csv')\n",
    "\n",
    "data['target'] = data[['query_hypothyroid', 'query_hyperthyroid', 'TSH_measured']].idxmax(axis=1)\n",
    "\n",
    "# Map target labels to numeric values\n",
    "data['target'] = data['target'].map({\n",
    "    'query_hypothyroid': 0,\n",
    "    'query_hyperthyroid': 1,\n",
    "    'TSH_measured': 2\n",
    "})\n",
    "\n",
    "# Define features and target\n",
    "features = ['TSH', 'T3', 'TT4', 'T4U', 'FTI']\n",
    "target = 'target'\n",
    "\n",
    "X_train, X_test, y_train, y_test = train_test_split(data[features], data[target], test_size=0.2, random_state=42)\n",
    "\n",
    "train_data = X_train.copy()\n",
    "train_data[target] = y_train\n",
    "\n",
    "model = BayesianNetwork()\n",
    "\n",
    "hc = HillClimbSearch(train_data, scoring_method=K2Score(train_data))\n",
    "best_model = hc.estimate()\n",
    "\n",
    "model.fit(train_data, estimator=MaximumLikelihoodEstimator)\n",
    "\n",
    "y_pred = model.predict(X_test)\n",
    "y_pred = y_pred[target]\n",
    "\n",
    "accuracy = accuracy_score(y_test, y_pred)\n",
    "print(f'Accuracy: {accuracy * 100:.2f}%')\n",
    "\n",
    "if accuracy >= 0.85:\n",
    "    print(\"Expected accuracy is achieved.\")\n",
    "else:\n",
    "    print(\"Expected accuracy is not achieved.\")"
   ]
  },
  {
   "cell_type": "code",
   "execution_count": null,
   "id": "68fa5f93-60a2-450f-9f4a-8b539db746a1",
   "metadata": {},
   "outputs": [],
   "source": []
  }
 ],
 "metadata": {
  "kernelspec": {
   "display_name": "Python 3 (ipykernel)",
   "language": "python",
   "name": "python3"
  },
  "language_info": {
   "codemirror_mode": {
    "name": "ipython",
    "version": 3
   },
   "file_extension": ".py",
   "mimetype": "text/x-python",
   "name": "python",
   "nbconvert_exporter": "python",
   "pygments_lexer": "ipython3",
   "version": "3.12.1"
  }
 },
 "nbformat": 4,
 "nbformat_minor": 5
}
